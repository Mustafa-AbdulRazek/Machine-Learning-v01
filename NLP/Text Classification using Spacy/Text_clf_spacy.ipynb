{
 "cells": [
  {
   "cell_type": "code",
   "execution_count": 6,
   "id": "7b85db7d",
   "metadata": {},
   "outputs": [],
   "source": [
    "import pandas as pd \n",
    "import spacy"
   ]
  },
  {
   "cell_type": "code",
   "execution_count": 4,
   "id": "8cc79da6",
   "metadata": {},
   "outputs": [
    {
     "data": {
      "text/html": [
       "<div>\n",
       "<style scoped>\n",
       "    .dataframe tbody tr th:only-of-type {\n",
       "        vertical-align: middle;\n",
       "    }\n",
       "\n",
       "    .dataframe tbody tr th {\n",
       "        vertical-align: top;\n",
       "    }\n",
       "\n",
       "    .dataframe thead th {\n",
       "        text-align: right;\n",
       "    }\n",
       "</style>\n",
       "<table border=\"1\" class=\"dataframe\">\n",
       "  <thead>\n",
       "    <tr style=\"text-align: right;\">\n",
       "      <th></th>\n",
       "      <th>label</th>\n",
       "      <th>text</th>\n",
       "    </tr>\n",
       "  </thead>\n",
       "  <tbody>\n",
       "    <tr>\n",
       "      <th>0</th>\n",
       "      <td>ham</td>\n",
       "      <td>Go until jurong point, crazy.. Available only ...</td>\n",
       "    </tr>\n",
       "    <tr>\n",
       "      <th>1</th>\n",
       "      <td>ham</td>\n",
       "      <td>Ok lar... Joking wif u oni...</td>\n",
       "    </tr>\n",
       "    <tr>\n",
       "      <th>2</th>\n",
       "      <td>spam</td>\n",
       "      <td>Free entry in 2 a wkly comp to win FA Cup fina...</td>\n",
       "    </tr>\n",
       "  </tbody>\n",
       "</table>\n",
       "</div>"
      ],
      "text/plain": [
       "  label                                               text\n",
       "0   ham  Go until jurong point, crazy.. Available only ...\n",
       "1   ham                      Ok lar... Joking wif u oni...\n",
       "2  spam  Free entry in 2 a wkly comp to win FA Cup fina..."
      ]
     },
     "execution_count": 4,
     "metadata": {},
     "output_type": "execute_result"
    }
   ],
   "source": [
    "data = pd.read_csv(\"data\\spam.csv\")\n",
    "data.head(3)"
   ]
  },
  {
   "cell_type": "markdown",
<<<<<<< HEAD
   "id": "7fadeef8",
=======
   "id": "e6a7d852",
>>>>>>> c9cd012fd249cb5d8f6847c142eb33f57015c65b
   "metadata": {},
   "source": [
    "## Bag of Words"
   ]
  },
  {
   "cell_type": "code",
   "execution_count": 7,
<<<<<<< HEAD
   "id": "8a78154a",
=======
   "id": "5207efb5",
>>>>>>> c9cd012fd249cb5d8f6847c142eb33f57015c65b
   "metadata": {},
   "outputs": [],
   "source": [
    "# create an empty model \n",
    "nlp = spacy.blank(\"en\")\n",
    "\n",
    "# add the text tokenizer to the empty model\n",
    "textcat = nlp.add_pipe(\"textcat\")"
   ]
  },
  {
   "cell_type": "code",
   "execution_count": 8,
<<<<<<< HEAD
   "id": "241cfd78",
=======
   "id": "53fb913b",
>>>>>>> c9cd012fd249cb5d8f6847c142eb33f57015c65b
   "metadata": {},
   "outputs": [
    {
     "data": {
      "text/plain": [
       "1"
      ]
     },
     "execution_count": 8,
     "metadata": {},
     "output_type": "execute_result"
    }
   ],
   "source": [
    "# add labels to text clf\n",
    "textcat.add_label(\"ham\")\n",
    "textcat.add_label(\"spam\")"
   ]
  },
  {
   "cell_type": "markdown",
<<<<<<< HEAD
   "id": "5f0d5aec",
=======
   "id": "a3e62ad7",
>>>>>>> c9cd012fd249cb5d8f6847c142eb33f57015c65b
   "metadata": {},
   "source": [
    "## Training the text tokenizer model"
   ]
  },
  {
   "cell_type": "code",
   "execution_count": 9,
<<<<<<< HEAD
   "id": "e519ad5f",
=======
   "id": "8fa9e5e8",
>>>>>>> c9cd012fd249cb5d8f6847c142eb33f57015c65b
   "metadata": {},
   "outputs": [],
   "source": [
    "train_text = data['text'].values\n",
    "train_labels = [{'cats': {'ham': label == 'ham',\n",
    "                          'spam': label == 'spam'}}\n",
    "                for label in data['label']]"
   ]
  },
  {
   "cell_type": "code",
   "execution_count": 10,
<<<<<<< HEAD
   "id": "989d494c",
=======
   "id": "8d60b084",
>>>>>>> c9cd012fd249cb5d8f6847c142eb33f57015c65b
   "metadata": {},
   "outputs": [
    {
     "data": {
      "text/plain": [
       "[('Go until jurong point, crazy.. Available only in bugis n great world la e buffet... Cine there got amore wat...',\n",
       "  {'cats': {'ham': True, 'spam': False}}),\n",
       " ('Ok lar... Joking wif u oni...', {'cats': {'ham': True, 'spam': False}}),\n",
       " (\"Free entry in 2 a wkly comp to win FA Cup final tkts 21st May 2005. Text FA to 87121 to receive entry question(std txt rate)T&C's apply 08452810075over18's\",\n",
       "  {'cats': {'ham': False, 'spam': True}})]"
      ]
     },
     "execution_count": 10,
     "metadata": {},
     "output_type": "execute_result"
    }
   ],
   "source": [
    "train_data = list(zip(train_text, train_labels))\n",
    "train_data[:3]"
   ]
  },
  {
   "cell_type": "code",
   "execution_count": 13,
<<<<<<< HEAD
   "id": "13fc408f",
=======
   "id": "21a79aad",
>>>>>>> c9cd012fd249cb5d8f6847c142eb33f57015c65b
   "metadata": {},
   "outputs": [],
   "source": [
    "from spacy.util import minibatch\n",
    "from spacy.training.example import Example\n",
    "\n",
    "spacy.util.fix_random_seed(1)\n",
    "optimizer = nlp.begin_training()\n",
    "\n",
    "# create batch generator size = 8\n",
    "batches = minibatch(train_data, size = 8)\n",
    "\n",
    "for batch in batches:\n",
    "    # each batch is a list of text and label\n",
    "    for text, label in batch:\n",
    "        doc = nlp.make_doc(text)\n",
    "        example = Example.from_dict(doc, label)\n",
    "        nlp.update([example], sgd = optimizer)"
   ]
  },
  {
   "cell_type": "code",
   "execution_count": 14,
<<<<<<< HEAD
   "id": "51a08fa9",
=======
   "id": "1c3dcfa2",
>>>>>>> c9cd012fd249cb5d8f6847c142eb33f57015c65b
   "metadata": {},
   "outputs": [],
   "source": [
    "import random \n",
    "random.seed(1)\n",
    "spacy.util.fix_random_seed(1)\n",
    "optimizer = nlp.begin_training()\n",
    "\n",
    "losses = {}\n",
    "for epoch in range(20):\n",
    "    random.shuffle(train_data)\n",
    "    batches = minibatch(train_data, size = 8)\n",
    "    for batch in batches:\n",
    "        for text, label in batch:\n",
    "            doc = nlp.make_doc(text)\n",
    "            example = Example.from_dict(doc, label)\n",
    "            nlp.update([example], sgd = optimizer, losses = losses)"
   ]
  },
  {
   "cell_type": "code",
   "execution_count": 16,
<<<<<<< HEAD
   "id": "61bf0189",
=======
   "id": "59654107",
>>>>>>> c9cd012fd249cb5d8f6847c142eb33f57015c65b
   "metadata": {},
   "outputs": [
    {
     "name": "stdout",
     "output_type": "stream",
     "text": [
      "{'textcat': 357.6785215411038}\n"
     ]
    }
   ],
   "source": [
    "print(losses)"
   ]
  },
  {
   "cell_type": "markdown",
<<<<<<< HEAD
   "id": "c404c5b4",
=======
   "id": "75537c79",
>>>>>>> c9cd012fd249cb5d8f6847c142eb33f57015c65b
   "metadata": {},
   "source": [
    "## Making predictions"
   ]
  },
  {
   "cell_type": "code",
   "execution_count": 17,
<<<<<<< HEAD
   "id": "632996d5",
=======
   "id": "9ee6fff5",
>>>>>>> c9cd012fd249cb5d8f6847c142eb33f57015c65b
   "metadata": {},
   "outputs": [
    {
     "name": "stdout",
     "output_type": "stream",
     "text": [
      "[[1.0000000e+00 7.8666422e-12]\n",
      " [9.9790454e-01 2.0954472e-03]]\n"
     ]
    }
   ],
   "source": [
    "texts = [\"Are you ready for the tea party????? It's gonna be wild\", \n",
    "         \"URGENT Reply to this message for GUARANTEED FREE TEA\"]\n",
    "\n",
    "docs = [nlp.tokenizer(text) for text in texts]\n",
    "\n",
    "textcat = nlp.get_pipe('textcat')\n",
    "scores = textcat.predict(docs)\n",
    "print(scores)"
   ]
  },
  {
   "cell_type": "code",
   "execution_count": 18,
<<<<<<< HEAD
   "id": "d0af068a",
=======
   "id": "40a74cb4",
>>>>>>> c9cd012fd249cb5d8f6847c142eb33f57015c65b
   "metadata": {},
   "outputs": [
    {
     "name": "stdout",
     "output_type": "stream",
     "text": [
      "['ham', 'ham']\n"
     ]
    }
   ],
   "source": [
    "# from scores, get label with the highest score/probability\n",
    "\n",
    "predicted_labels = scores.argmax(axis=1)\n",
    "print([textcat.labels[label] for label in predicted_labels])"
   ]
  },
  {
   "cell_type": "code",
   "execution_count": null,
<<<<<<< HEAD
   "id": "09314dec",
=======
   "id": "fc8ec0af",
>>>>>>> c9cd012fd249cb5d8f6847c142eb33f57015c65b
   "metadata": {},
   "outputs": [],
   "source": []
  }
 ],
 "metadata": {
  "kernelspec": {
   "display_name": "Tachyhealth_train",
   "language": "python",
   "name": "tachyhealth_train"
  },
  "language_info": {
   "codemirror_mode": {
    "name": "ipython",
    "version": 3
   },
   "file_extension": ".py",
   "mimetype": "text/x-python",
   "name": "python",
   "nbconvert_exporter": "python",
   "pygments_lexer": "ipython3",
   "version": "3.9.13"
  }
 },
 "nbformat": 4,
 "nbformat_minor": 5
}
