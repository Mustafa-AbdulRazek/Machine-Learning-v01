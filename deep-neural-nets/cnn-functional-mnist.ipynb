{
 "cells": [
  {
   "cell_type": "code",
   "execution_count": 1,
   "id": "5d400676",
   "metadata": {},
   "outputs": [],
   "source": [
    "import numpy as np\n",
    "from tensorflow.keras.layers import Dense, Dropout, Input\n",
    "from tensorflow.keras.datasets import mnist\n",
    "from tensorflow.keras.layers import Conv2D, MaxPooling2D, Flatten\n",
    "from tensorflow.keras.utils import to_categorical\n",
    "from tensorflow.keras.models import Model"
   ]
  },
  {
   "cell_type": "code",
   "execution_count": 2,
   "id": "6500b1f2",
   "metadata": {},
   "outputs": [],
   "source": [
    "# load mnist dataset\n",
    "(x_train, y_train), (x_test, y_test) = mnist.load_data()"
   ]
  },
  {
   "cell_type": "code",
   "execution_count": 3,
   "id": "2411532e",
   "metadata": {},
   "outputs": [
    {
     "data": {
      "text/plain": [
       "array([5, 0, 4, ..., 5, 6, 8], dtype=uint8)"
      ]
     },
     "execution_count": 3,
     "metadata": {},
     "output_type": "execute_result"
    }
   ],
   "source": [
    "y_train"
   ]
  },
  {
   "cell_type": "code",
   "execution_count": 4,
   "id": "9eeec575",
   "metadata": {},
   "outputs": [],
   "source": [
    "# from sparse label to categorical (one-hot vector)\n",
    "num_labels = len(np.unique(y_train))\n",
    "y_train = to_categorical(y_train)\n",
    "y_test = to_categorical(y_test)"
   ]
  },
  {
   "cell_type": "code",
   "execution_count": 5,
   "id": "b46b33b5",
   "metadata": {},
   "outputs": [
    {
     "data": {
      "text/plain": [
       "array([[0., 0., 0., ..., 0., 0., 0.],\n",
       "       [1., 0., 0., ..., 0., 0., 0.],\n",
       "       [0., 0., 0., ..., 0., 0., 0.],\n",
       "       ...,\n",
       "       [0., 0., 0., ..., 0., 0., 0.],\n",
       "       [0., 0., 0., ..., 0., 0., 0.],\n",
       "       [0., 0., 0., ..., 0., 1., 0.]], dtype=float32)"
      ]
     },
     "execution_count": 5,
     "metadata": {},
     "output_type": "execute_result"
    }
   ],
   "source": [
    "y_train"
   ]
  },
  {
   "cell_type": "code",
   "execution_count": 6,
   "id": "6c3f2220",
   "metadata": {},
   "outputs": [],
   "source": [
    "# reshape and normalize input images\n",
    "image_size = x_train.shape[1]\n",
    "x_train = np.reshape(x_train, [-1, image_size, image_size, 1])\n",
    "x_test  = np.reshape(x_test, [-1, image_size, image_size, 1])\n",
    "x_train = x_train.astype('float32') / 255\n",
    "x_test  = x_test.astype('float32') / 255"
   ]
  },
  {
   "cell_type": "code",
   "execution_count": 7,
   "id": "dc4880c0",
   "metadata": {},
   "outputs": [],
   "source": [
    "# network params\n",
    "input_shape = (image_size, image_size, 1)\n",
    "batch_size = 128\n",
    "dropout = 0.3\n",
    "filters = 64\n",
    "kernel_size = 3"
   ]
  },
  {
   "cell_type": "code",
   "execution_count": 8,
   "id": "586d9f07",
   "metadata": {},
   "outputs": [
    {
     "name": "stdout",
     "output_type": "stream",
     "text": [
      "Model: \"model\"\n",
      "_________________________________________________________________\n",
      " Layer (type)                Output Shape              Param #   \n",
      "=================================================================\n",
      " input_1 (InputLayer)        [(None, 28, 28, 1)]       0         \n",
      "                                                                 \n",
      " conv2d (Conv2D)             (None, 26, 26, 64)        640       \n",
      "                                                                 \n",
      " max_pooling2d (MaxPooling2D  (None, 13, 13, 64)       0         \n",
      " )                                                               \n",
      "                                                                 \n",
      " conv2d_1 (Conv2D)           (None, 11, 11, 64)        36928     \n",
      "                                                                 \n",
      " max_pooling2d_1 (MaxPooling  (None, 5, 5, 64)         0         \n",
      " 2D)                                                             \n",
      "                                                                 \n",
      " conv2d_2 (Conv2D)           (None, 3, 3, 64)          36928     \n",
      "                                                                 \n",
      " flatten (Flatten)           (None, 576)               0         \n",
      "                                                                 \n",
      " dropout (Dropout)           (None, 576)               0         \n",
      "                                                                 \n",
      " dense (Dense)               (None, 10)                5770      \n",
      "                                                                 \n",
      "=================================================================\n",
      "Total params: 80,266\n",
      "Trainable params: 80,266\n",
      "Non-trainable params: 0\n",
      "_________________________________________________________________\n"
     ]
    }
   ],
   "source": [
    "# use functional API to build CNN layers\n",
    "\n",
    "inputs = Input(shape=input_shape)\n",
    "y = Conv2D(filters=filters, \n",
    "         kernel_size=kernel_size, \n",
    "         activation='relu')(inputs)\n",
    "y = MaxPooling2D()(y)\n",
    "y = Conv2D(filters=filters, \n",
    "         kernel_size=kernel_size, \n",
    "         activation='relu')(y)\n",
    "y = MaxPooling2D()(y)\n",
    "y = Conv2D(filters=filters, \n",
    "         kernel_size=kernel_size, \n",
    "         activation='relu')(y)\n",
    "\n",
    "# image to vector before connectiong to Dense layer\n",
    "y = Flatten()(y)\n",
    "# dropout regularization\n",
    "y = Dropout(dropout)(y)\n",
    "\n",
    "outputs = Dense(num_labels, activation='softmax')(y)\n",
    "\n",
    "# build the model by supplying inputs/ outputs\n",
    "model = Model(inputs=inputs, outputs=outputs)\n",
    "\n",
    "# network model in text\n",
    "model.summary()"
   ]
  },
  {
   "cell_type": "code",
   "execution_count": 9,
   "id": "597d70ad",
   "metadata": {},
   "outputs": [],
   "source": [
    "# classifier loss, optimizer, accuracy\n",
    "model.compile(loss='categorical_crossentropy', \n",
    "              optimizer='adam', \n",
    "              metrics=['accuracy'])"
   ]
  },
  {
   "cell_type": "code",
   "execution_count": 10,
   "id": "72225fb5",
   "metadata": {},
   "outputs": [
    {
     "name": "stdout",
     "output_type": "stream",
     "text": [
      "Epoch 1/20\n",
      "469/469 [==============================] - 25s 51ms/step - loss: 0.2819 - accuracy: 0.9112 - val_loss: 0.0653 - val_accuracy: 0.9792\n",
      "Epoch 2/20\n",
      "469/469 [==============================] - 24s 50ms/step - loss: 0.0731 - accuracy: 0.9773 - val_loss: 0.0386 - val_accuracy: 0.9876\n",
      "Epoch 3/20\n",
      "469/469 [==============================] - 23s 48ms/step - loss: 0.0534 - accuracy: 0.9837 - val_loss: 0.0309 - val_accuracy: 0.9897\n",
      "Epoch 4/20\n",
      "469/469 [==============================] - 25s 54ms/step - loss: 0.0429 - accuracy: 0.9863 - val_loss: 0.0271 - val_accuracy: 0.9914\n",
      "Epoch 5/20\n",
      "469/469 [==============================] - 24s 52ms/step - loss: 0.0372 - accuracy: 0.9881 - val_loss: 0.0288 - val_accuracy: 0.9902\n",
      "Epoch 6/20\n",
      "469/469 [==============================] - 24s 51ms/step - loss: 0.0311 - accuracy: 0.9906 - val_loss: 0.0290 - val_accuracy: 0.9902\n",
      "Epoch 7/20\n",
      "469/469 [==============================] - 24s 51ms/step - loss: 0.0277 - accuracy: 0.9914 - val_loss: 0.0239 - val_accuracy: 0.9922\n",
      "Epoch 8/20\n",
      "469/469 [==============================] - 27s 58ms/step - loss: 0.0250 - accuracy: 0.9920 - val_loss: 0.0283 - val_accuracy: 0.9911\n",
      "Epoch 9/20\n",
      "469/469 [==============================] - 23s 50ms/step - loss: 0.0219 - accuracy: 0.9930 - val_loss: 0.0237 - val_accuracy: 0.9923\n",
      "Epoch 10/20\n",
      "469/469 [==============================] - 23s 49ms/step - loss: 0.0196 - accuracy: 0.9935 - val_loss: 0.0237 - val_accuracy: 0.9925\n",
      "Epoch 11/20\n",
      "469/469 [==============================] - 24s 52ms/step - loss: 0.0178 - accuracy: 0.9944 - val_loss: 0.0215 - val_accuracy: 0.9935\n",
      "Epoch 12/20\n",
      "469/469 [==============================] - 23s 50ms/step - loss: 0.0172 - accuracy: 0.9943 - val_loss: 0.0216 - val_accuracy: 0.9930\n",
      "Epoch 13/20\n",
      "469/469 [==============================] - 22s 48ms/step - loss: 0.0152 - accuracy: 0.9948 - val_loss: 0.0195 - val_accuracy: 0.9935\n",
      "Epoch 14/20\n",
      "469/469 [==============================] - 22s 48ms/step - loss: 0.0137 - accuracy: 0.9958 - val_loss: 0.0250 - val_accuracy: 0.9928\n",
      "Epoch 15/20\n",
      "469/469 [==============================] - 23s 48ms/step - loss: 0.0120 - accuracy: 0.9957 - val_loss: 0.0252 - val_accuracy: 0.9930\n",
      "Epoch 16/20\n",
      "469/469 [==============================] - 22s 48ms/step - loss: 0.0118 - accuracy: 0.9960 - val_loss: 0.0230 - val_accuracy: 0.9931\n",
      "Epoch 17/20\n",
      "469/469 [==============================] - 22s 48ms/step - loss: 0.0110 - accuracy: 0.9962 - val_loss: 0.0252 - val_accuracy: 0.9926\n",
      "Epoch 18/20\n",
      "469/469 [==============================] - 23s 49ms/step - loss: 0.0098 - accuracy: 0.9966 - val_loss: 0.0288 - val_accuracy: 0.9923\n",
      "Epoch 19/20\n",
      "469/469 [==============================] - 24s 51ms/step - loss: 0.0094 - accuracy: 0.9969 - val_loss: 0.0244 - val_accuracy: 0.9929\n",
      "Epoch 20/20\n",
      "469/469 [==============================] - 23s 48ms/step - loss: 0.0101 - accuracy: 0.9965 - val_loss: 0.0222 - val_accuracy: 0.9942\n"
     ]
    },
    {
     "data": {
      "text/plain": [
       "<keras.callbacks.History at 0x2131ba37f70>"
      ]
     },
     "execution_count": 10,
     "metadata": {},
     "output_type": "execute_result"
    }
   ],
   "source": [
    "# train the model\n",
    "model.fit(x_train, y_train, \n",
    "          validation_data = (x_test, y_test), \n",
    "          epochs=20, \n",
    "          batch_size=batch_size)"
   ]
  },
  {
   "cell_type": "code",
   "execution_count": 11,
   "id": "58d1566c",
   "metadata": {},
   "outputs": [
    {
     "name": "stdout",
     "output_type": "stream",
     "text": [
      "\n",
      "Test accuracy: 99.4%\n"
     ]
    }
   ],
   "source": [
    "# evaluate the model\n",
    "score = model.evaluate(x_test, y_test, \n",
    "                       batch_size=batch_size, \n",
    "                       verbose=0)\n",
    "\n",
    "print(\"\\nTest accuracy: %.1f%%\" % (100 * score[1]))"
   ]
  },
  {
   "cell_type": "code",
   "execution_count": null,
   "id": "ea7d56fd",
   "metadata": {},
   "outputs": [],
   "source": []
  }
 ],
 "metadata": {
  "kernelspec": {
   "display_name": "Tachyhealth_train",
   "language": "python",
   "name": "tachyhealth_train"
  },
  "language_info": {
   "codemirror_mode": {
    "name": "ipython",
    "version": 3
   },
   "file_extension": ".py",
   "mimetype": "text/x-python",
   "name": "python",
   "nbconvert_exporter": "python",
   "pygments_lexer": "ipython3",
   "version": "3.9.13"
  }
 },
 "nbformat": 4,
 "nbformat_minor": 5
}
