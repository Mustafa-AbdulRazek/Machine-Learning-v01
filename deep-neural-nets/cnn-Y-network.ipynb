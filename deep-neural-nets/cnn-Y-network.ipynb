{
 "cells": [
  {
   "cell_type": "code",
   "execution_count": 6,
   "id": "e12fe19a",
   "metadata": {},
   "outputs": [],
   "source": [
    "import numpy as np\n",
    "from tensorflow.keras.models import Model\n",
    "from tensorflow.keras.layers import Conv2D, MaxPooling2D\n",
    "from tensorflow.keras.layers import Flatten, concatenate\n",
    "from tensorflow.keras.layers import Dense, Dropout, Input\n",
    "from tensorflow.keras .datasets import mnist\n",
    "from tensorflow.keras.utils import to_categorical, plot_model"
   ]
  },
  {
   "cell_type": "code",
   "execution_count": 2,
   "id": "43bfc960",
   "metadata": {},
   "outputs": [],
   "source": [
    "# load the datast\n",
    "(x_train, y_train), (x_test, y_test) = mnist.load_data()"
   ]
  },
  {
   "cell_type": "code",
   "execution_count": 3,
   "id": "7476c82a",
   "metadata": {},
   "outputs": [],
   "source": [
    "# from sparse labels to categorical\n",
    "num_labels = len(np.unique(y_train))\n",
    "y_train = to_categorical(y_train)\n",
    "y_test  = to_categorical(y_test)"
   ]
  },
  {
   "cell_type": "code",
   "execution_count": 4,
   "id": "c50d268c",
   "metadata": {},
   "outputs": [],
   "source": [
    "# reshape and normalize input images \n",
    "image_size = x_train.shape[1]\n",
    "x_train = np.reshape(x_train, [-1, image_size, image_size, 1])\n",
    "x_test  = np.reshape(x_test,  [-1, image_size, image_size, 1])\n",
    "\n",
    "x_train = x_train.astype('float32') / 255\n",
    "x_test  = x_test.astype('float32') / 255"
   ]
  },
  {
   "cell_type": "code",
   "execution_count": 5,
   "id": "4899073c",
   "metadata": {},
   "outputs": [],
   "source": [
    "# network params\n",
    "input_shape = (image_size, image_size, 1)\n",
    "n_filters = 32\n",
    "batch_size = 32\n",
    "kernel_size = 3\n",
    "dropout = 0.4"
   ]
  },
  {
   "cell_type": "code",
   "execution_count": 8,
   "id": "fbe43165",
   "metadata": {},
   "outputs": [
    {
     "name": "stdout",
     "output_type": "stream",
     "text": [
      "Model: \"model\"\n",
      "__________________________________________________________________________________________________\n",
      " Layer (type)                   Output Shape         Param #     Connected to                     \n",
      "==================================================================================================\n",
      " input_2 (InputLayer)           [(None, 28, 28, 1)]  0           []                               \n",
      "                                                                                                  \n",
      " input_3 (InputLayer)           [(None, 28, 28, 1)]  0           []                               \n",
      "                                                                                                  \n",
      " conv2d (Conv2D)                (None, 28, 28, 32)   320         ['input_2[0][0]']                \n",
      "                                                                                                  \n",
      " conv2d_3 (Conv2D)              (None, 28, 28, 32)   320         ['input_3[0][0]']                \n",
      "                                                                                                  \n",
      " dropout (Dropout)              (None, 28, 28, 32)   0           ['conv2d[0][0]']                 \n",
      "                                                                                                  \n",
      " dropout_3 (Dropout)            (None, 28, 28, 32)   0           ['conv2d_3[0][0]']               \n",
      "                                                                                                  \n",
      " max_pooling2d (MaxPooling2D)   (None, 14, 14, 32)   0           ['dropout[0][0]']                \n",
      "                                                                                                  \n",
      " max_pooling2d_3 (MaxPooling2D)  (None, 14, 14, 32)  0           ['dropout_3[0][0]']              \n",
      "                                                                                                  \n",
      " conv2d_1 (Conv2D)              (None, 14, 14, 64)   18496       ['max_pooling2d[0][0]']          \n",
      "                                                                                                  \n",
      " conv2d_4 (Conv2D)              (None, 14, 14, 64)   18496       ['max_pooling2d_3[0][0]']        \n",
      "                                                                                                  \n",
      " dropout_1 (Dropout)            (None, 14, 14, 64)   0           ['conv2d_1[0][0]']               \n",
      "                                                                                                  \n",
      " dropout_4 (Dropout)            (None, 14, 14, 64)   0           ['conv2d_4[0][0]']               \n",
      "                                                                                                  \n",
      " max_pooling2d_1 (MaxPooling2D)  (None, 7, 7, 64)    0           ['dropout_1[0][0]']              \n",
      "                                                                                                  \n",
      " max_pooling2d_4 (MaxPooling2D)  (None, 7, 7, 64)    0           ['dropout_4[0][0]']              \n",
      "                                                                                                  \n",
      " conv2d_2 (Conv2D)              (None, 7, 7, 128)    73856       ['max_pooling2d_1[0][0]']        \n",
      "                                                                                                  \n",
      " conv2d_5 (Conv2D)              (None, 7, 7, 128)    73856       ['max_pooling2d_4[0][0]']        \n",
      "                                                                                                  \n",
      " dropout_2 (Dropout)            (None, 7, 7, 128)    0           ['conv2d_2[0][0]']               \n",
      "                                                                                                  \n",
      " dropout_5 (Dropout)            (None, 7, 7, 128)    0           ['conv2d_5[0][0]']               \n",
      "                                                                                                  \n",
      " max_pooling2d_2 (MaxPooling2D)  (None, 3, 3, 128)   0           ['dropout_2[0][0]']              \n",
      "                                                                                                  \n",
      " max_pooling2d_5 (MaxPooling2D)  (None, 3, 3, 128)   0           ['dropout_5[0][0]']              \n",
      "                                                                                                  \n",
      " concatenate (Concatenate)      (None, 3, 3, 256)    0           ['max_pooling2d_2[0][0]',        \n",
      "                                                                  'max_pooling2d_5[0][0]']        \n",
      "                                                                                                  \n",
      " flatten (Flatten)              (None, 2304)         0           ['concatenate[0][0]']            \n",
      "                                                                                                  \n",
      " dropout_6 (Dropout)            (None, 2304)         0           ['flatten[0][0]']                \n",
      "                                                                                                  \n",
      " dense (Dense)                  (None, 10)           23050       ['dropout_6[0][0]']              \n",
      "                                                                                                  \n",
      "==================================================================================================\n",
      "Total params: 208,394\n",
      "Trainable params: 208,394\n",
      "Non-trainable params: 0\n",
      "__________________________________________________________________________________________________\n"
     ]
    }
   ],
   "source": [
    "# left branch of Y-network\n",
    "left_inputs = Input(shape=input_shape)\n",
    "x = left_inputs\n",
    "filters = n_filters\n",
    "\n",
    "# 3 layers of Conv2D-Dropout-MaxPooling2D\n",
    "# num of filters doubles after each layer (32, 64, 128)\n",
    "for i in range(3):\n",
    "    x = Conv2D(filters=filters, \n",
    "               kernel_size=kernel_size, \n",
    "               padding='same', \n",
    "               activation='relu')(x)\n",
    "    x = Dropout(dropout)(x)\n",
    "    x = MaxPooling2D()(x)\n",
    "    filters *= 2\n",
    "\n",
    "\n",
    "# right branch of Y-network\n",
    "right_inputs = Input(shape=input_shape)\n",
    "y = right_inputs\n",
    "filters = n_filters\n",
    "\n",
    "# 3 layers of Conv2D-Dropout-MaxPooling2D\n",
    "# number of filters doubles after each layer (32, 64, 128)\n",
    "for i in range(3):\n",
    "    y = Conv2D(filters=filters, \n",
    "               kernel_size=kernel_size, \n",
    "               padding='same', \n",
    "               activation='relu')(y)\n",
    "    y = Dropout(dropout)(y)\n",
    "    y = MaxPooling2D()(y)\n",
    "    filters *= 2\n",
    "    \n",
    "\n",
    "# merge left and right branches outputs\n",
    "y = concatenate([x, y])\n",
    "\n",
    "# features maps to vector before connecting to Dense\n",
    "y = Flatten()(y)\n",
    "y = Dropout(dropout)(y)\n",
    "outputs = Dense(num_labels, activation='softmax')(y)\n",
    "\n",
    "# build the model in functional API\n",
    "model = Model([left_inputs, right_inputs], outputs)\n",
    "\n",
    "# verify the model using graph\n",
    "plot_model(model, to_file='cnn-Y-network.png', show_shapes=True)\n",
    "\n",
    "# verify the model using layer text description\n",
    "model.summary()"
   ]
  },
  {
   "cell_type": "code",
   "execution_count": 9,
   "id": "6b57479d",
   "metadata": {},
   "outputs": [],
   "source": [
    "# classifier loss, Adam optimizer, accuracy metrics\n",
    "model.compile(loss='categorical_crossentropy', \n",
    "              optimizer='Adam', \n",
    "              metrics=['accuracy'])"
   ]
  },
  {
   "cell_type": "code",
   "execution_count": 10,
   "id": "5e6ff88d",
   "metadata": {},
   "outputs": [
    {
     "name": "stdout",
     "output_type": "stream",
     "text": [
      "Epoch 1/25\n",
      "1875/1875 [==============================] - 86s 45ms/step - loss: 0.1740 - accuracy: 0.9450 - val_loss: 0.1323 - val_accuracy: 0.9884\n",
      "Epoch 2/25\n",
      "1875/1875 [==============================] - 85s 46ms/step - loss: 0.0685 - accuracy: 0.9789 - val_loss: 0.0713 - val_accuracy: 0.9910\n",
      "Epoch 3/25\n",
      "1875/1875 [==============================] - 79s 42ms/step - loss: 0.0560 - accuracy: 0.9826 - val_loss: 0.0699 - val_accuracy: 0.9892\n",
      "Epoch 4/25\n",
      "1875/1875 [==============================] - 81s 43ms/step - loss: 0.0498 - accuracy: 0.9849 - val_loss: 0.0728 - val_accuracy: 0.9912\n",
      "Epoch 5/25\n",
      "1875/1875 [==============================] - 85s 46ms/step - loss: 0.0446 - accuracy: 0.9860 - val_loss: 0.0396 - val_accuracy: 0.9939\n",
      "Epoch 6/25\n",
      "1875/1875 [==============================] - 85s 45ms/step - loss: 0.0424 - accuracy: 0.9870 - val_loss: 0.0540 - val_accuracy: 0.9936\n",
      "Epoch 7/25\n",
      "1875/1875 [==============================] - 89s 47ms/step - loss: 0.0414 - accuracy: 0.9875 - val_loss: 0.0488 - val_accuracy: 0.9938\n",
      "Epoch 8/25\n",
      "1875/1875 [==============================] - 84s 45ms/step - loss: 0.0375 - accuracy: 0.9885 - val_loss: 0.0412 - val_accuracy: 0.9922\n",
      "Epoch 9/25\n",
      "1875/1875 [==============================] - 84s 45ms/step - loss: 0.0373 - accuracy: 0.9884 - val_loss: 0.0388 - val_accuracy: 0.9937\n",
      "Epoch 10/25\n",
      "1875/1875 [==============================] - 87s 46ms/step - loss: 0.0378 - accuracy: 0.9883 - val_loss: 0.0325 - val_accuracy: 0.9932\n",
      "Epoch 11/25\n",
      "1875/1875 [==============================] - 81s 43ms/step - loss: 0.0385 - accuracy: 0.9884 - val_loss: 0.0324 - val_accuracy: 0.9940\n",
      "Epoch 12/25\n",
      "1875/1875 [==============================] - 79s 42ms/step - loss: 0.0348 - accuracy: 0.9886 - val_loss: 0.0347 - val_accuracy: 0.9935\n",
      "Epoch 13/25\n",
      "1875/1875 [==============================] - 79s 42ms/step - loss: 0.0340 - accuracy: 0.9896 - val_loss: 0.0356 - val_accuracy: 0.9926\n",
      "Epoch 14/25\n",
      "1875/1875 [==============================] - 82s 44ms/step - loss: 0.0348 - accuracy: 0.9894 - val_loss: 0.0421 - val_accuracy: 0.9940\n",
      "Epoch 15/25\n",
      "1875/1875 [==============================] - 86s 46ms/step - loss: 0.0342 - accuracy: 0.9897 - val_loss: 0.0268 - val_accuracy: 0.9941\n",
      "Epoch 16/25\n",
      "1875/1875 [==============================] - 85s 45ms/step - loss: 0.0337 - accuracy: 0.9897 - val_loss: 0.0297 - val_accuracy: 0.9930\n",
      "Epoch 17/25\n",
      "1875/1875 [==============================] - 88s 47ms/step - loss: 0.0332 - accuracy: 0.9901 - val_loss: 0.0279 - val_accuracy: 0.9935\n",
      "Epoch 18/25\n",
      "1875/1875 [==============================] - 88s 47ms/step - loss: 0.0322 - accuracy: 0.9901 - val_loss: 0.0320 - val_accuracy: 0.9925\n",
      "Epoch 19/25\n",
      "1875/1875 [==============================] - 83s 44ms/step - loss: 0.0335 - accuracy: 0.9901 - val_loss: 0.0251 - val_accuracy: 0.9941\n",
      "Epoch 20/25\n",
      "1875/1875 [==============================] - 87s 46ms/step - loss: 0.0325 - accuracy: 0.9901 - val_loss: 0.0243 - val_accuracy: 0.9941\n",
      "Epoch 21/25\n",
      "1875/1875 [==============================] - 85s 45ms/step - loss: 0.0322 - accuracy: 0.9900 - val_loss: 0.0310 - val_accuracy: 0.9944\n",
      "Epoch 22/25\n",
      "1875/1875 [==============================] - 86s 46ms/step - loss: 0.0321 - accuracy: 0.9902 - val_loss: 0.0275 - val_accuracy: 0.9945\n",
      "Epoch 23/25\n",
      "1875/1875 [==============================] - 89s 48ms/step - loss: 0.0325 - accuracy: 0.9904 - val_loss: 0.0237 - val_accuracy: 0.9938\n",
      "Epoch 24/25\n",
      "1875/1875 [==============================] - 85s 45ms/step - loss: 0.0323 - accuracy: 0.9904 - val_loss: 0.0296 - val_accuracy: 0.9930\n",
      "Epoch 25/25\n",
      "1875/1875 [==============================] - 86s 46ms/step - loss: 0.0314 - accuracy: 0.9906 - val_loss: 0.0343 - val_accuracy: 0.9933\n"
     ]
    },
    {
     "data": {
      "text/plain": [
       "<keras.callbacks.History at 0x21426815f40>"
      ]
     },
     "execution_count": 10,
     "metadata": {},
     "output_type": "execute_result"
    }
   ],
   "source": [
    "# train the model with input images and labesl \n",
    "model.fit([x_train, x_train], \n",
    "          y_train, \n",
    "          validation_data=([x_test, x_test], y_test), \n",
    "          epochs=25, \n",
    "          batch_size=batch_size)"
   ]
  },
  {
   "cell_type": "code",
   "execution_count": 13,
   "id": "81b26d99",
   "metadata": {},
   "outputs": [
    {
     "name": "stdout",
     "output_type": "stream",
     "text": [
      "\n",
      "Test accuracy: 99.3%\n"
     ]
    }
   ],
   "source": [
    "# model accuracy on test data\n",
    "score = model.evaluate([x_test, x_test], \n",
    "                       y_test, \n",
    "                       batch_size=batch_size, \n",
    "                       verbose=0)\n",
    "\n",
    "print(\"\\nTest accuracy: %.1f%%\" % (100.0 * score[1]))"
   ]
  },
  {
   "cell_type": "code",
   "execution_count": null,
   "id": "7ee0b7f7",
   "metadata": {},
   "outputs": [],
   "source": []
  },
  {
   "cell_type": "code",
   "execution_count": null,
   "id": "2fa84a68",
   "metadata": {},
   "outputs": [],
   "source": []
  },
  {
   "cell_type": "code",
   "execution_count": null,
   "id": "063226bd",
   "metadata": {},
   "outputs": [],
   "source": []
  },
  {
   "cell_type": "code",
   "execution_count": null,
   "id": "034ba32d",
   "metadata": {},
   "outputs": [],
   "source": []
  },
  {
   "cell_type": "code",
   "execution_count": null,
   "id": "f24e8182",
   "metadata": {},
   "outputs": [],
   "source": []
  },
  {
   "cell_type": "code",
   "execution_count": null,
   "id": "070c9dbe",
   "metadata": {},
   "outputs": [],
   "source": []
  },
  {
   "cell_type": "code",
   "execution_count": null,
   "id": "969db03e",
   "metadata": {},
   "outputs": [],
   "source": []
  }
 ],
 "metadata": {
  "kernelspec": {
   "display_name": "Tachyhealth_train",
   "language": "python",
   "name": "tachyhealth_train"
  },
  "language_info": {
   "codemirror_mode": {
    "name": "ipython",
    "version": 3
   },
   "file_extension": ".py",
   "mimetype": "text/x-python",
   "name": "python",
   "nbconvert_exporter": "python",
   "pygments_lexer": "ipython3",
   "version": "3.9.13"
  }
 },
 "nbformat": 4,
 "nbformat_minor": 5
}
